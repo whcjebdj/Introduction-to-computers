{
  "nbformat": 4,
  "nbformat_minor": 0,
  "metadata": {
    "colab": {
      "provenance": [],
      "authorship_tag": "ABX9TyPT5ySJPLqZYJdPMOZP0mEp",
      "include_colab_link": true
    },
    "kernelspec": {
      "name": "python3",
      "display_name": "Python 3"
    },
    "language_info": {
      "name": "python"
    }
  },
  "cells": [
    {
      "cell_type": "markdown",
      "metadata": {
        "id": "view-in-github",
        "colab_type": "text"
      },
      "source": [
        "<a href=\"https://colab.research.google.com/github/whcjebdj/Introduction-to-computers/blob/main/0508Untitled15.ipynb\" target=\"_parent\"><img src=\"https://colab.research.google.com/assets/colab-badge.svg\" alt=\"Open In Colab\"/></a>"
      ]
    },
    {
      "cell_type": "code",
      "execution_count": 1,
      "metadata": {
        "colab": {
          "base_uri": "https://localhost:8080/"
        },
        "id": "QCWmSUaP7CPc",
        "outputId": "6a79300d-4c78-48c8-8a29-4d478efb5c36"
      },
      "outputs": [
        {
          "output_type": "stream",
          "name": "stdout",
          "text": [
            "請輸入體溫55\n",
            "體溫過高!\n"
          ]
        }
      ],
      "source": [
        "temperature = float(input(\"請輸入體溫\"))\n",
        "if(temperature >= 37.5):\n",
        "  print(\"體溫過高!\")\n",
        "elif(temperature <= 37.4 and temperature >= 37):\n",
        "  print(\"體溫略高!\")\n",
        "elif(temperature <= 36.9 and temperature >= 34):\n",
        "  print(\"體溫正常\")\n",
        "else:\n",
        "  print(\"體溫異常，請重新量測!\")"
      ]
    },
    {
      "cell_type": "code",
      "source": [
        "temperature = float(input(\"請輸入體溫\"))\n",
        "if(temperature >= 37.5):\n",
        "  print(\"體溫過高!\")\n",
        "elif(temperature <= 37.4 and temperature >= 37):\n",
        "  print(\"體溫略高!\")\n",
        "elif(temperature <= 36.9 and temperature >= 34):\n",
        "  print(\"體溫正常\")\n",
        "else:\n",
        "  print(\"體溫異常，請重新量測!\")"
      ],
      "metadata": {
        "colab": {
          "base_uri": "https://localhost:8080/"
        },
        "id": "_Ut3qevn7NbI",
        "outputId": "af16f3a3-4b49-408d-880a-a0eb2ca5fb09"
      },
      "execution_count": 2,
      "outputs": [
        {
          "output_type": "stream",
          "name": "stdout",
          "text": [
            "請輸入體溫37.2\n",
            "體溫略高!\n"
          ]
        }
      ]
    },
    {
      "cell_type": "code",
      "source": [
        "temperature = float(input(\"請輸入體溫\"))\n",
        "if(temperature >= 37.5):\n",
        "  print(\"體溫過高!\")\n",
        "elif(temperature <= 37.4 and temperature >= 37):\n",
        "  print(\"體溫略高!\")\n",
        "elif(temperature <= 36.9 and temperature >= 34):\n",
        "  print(\"體溫正常\")\n",
        "else:\n",
        "  print(\"體溫異常，請重新量測!\")"
      ],
      "metadata": {
        "colab": {
          "base_uri": "https://localhost:8080/"
        },
        "id": "tJgE_qwk7NzI",
        "outputId": "f6456196-2006-40e7-825e-45bd8249d121"
      },
      "execution_count": 3,
      "outputs": [
        {
          "output_type": "stream",
          "name": "stdout",
          "text": [
            "請輸入體溫35\n",
            "體溫正常\n"
          ]
        }
      ]
    },
    {
      "cell_type": "code",
      "source": [
        "temperature = float(input(\"請輸入體溫\"))\n",
        "if(temperature >= 37.5):\n",
        "  print(\"體溫過高!\")\n",
        "elif(temperature <= 37.4 and temperature >= 37):\n",
        "  print(\"體溫略高!\")\n",
        "elif(temperature <= 36.9 and temperature >= 34):\n",
        "  print(\"體溫正常\")\n",
        "else:\n",
        "  print(\"體溫異常，請重新量測!\")"
      ],
      "metadata": {
        "colab": {
          "base_uri": "https://localhost:8080/"
        },
        "id": "Ynfopvvv7N2S",
        "outputId": "a1ce76f6-b944-4ed0-e028-df9052023efb"
      },
      "execution_count": 4,
      "outputs": [
        {
          "output_type": "stream",
          "name": "stdout",
          "text": [
            "請輸入體溫32\n",
            "體溫異常，請重新量測!\n"
          ]
        }
      ]
    },
    {
      "cell_type": "code",
      "source": [
        "grade = int(input(\"請輸入成績\"))\n",
        "if(grade >= 90):\n",
        "  print(\"A\")\n",
        "elif(grade <= 89 and grade >= 80):\n",
        "  print(\"B\")\n",
        "elif(grade <= 79 and grade >= 70):\n",
        "  print(\"C\")\n",
        "elif(grade <= 69 and grade >= 60):\n",
        "  print(\"D\")\n",
        "else:\n",
        "  print(\"E\")"
      ],
      "metadata": {
        "colab": {
          "base_uri": "https://localhost:8080/"
        },
        "id": "BYbs8UnN7N5c",
        "outputId": "6e493bc4-ffe0-4d28-c828-67defea3f53f"
      },
      "execution_count": 5,
      "outputs": [
        {
          "output_type": "stream",
          "name": "stdout",
          "text": [
            "請輸入成績100\n",
            "A\n"
          ]
        }
      ]
    },
    {
      "cell_type": "code",
      "source": [
        "grade = int(input(\"請輸入成績\"))\n",
        "if(grade >= 90):\n",
        "  print(\"A\")\n",
        "elif(grade <= 89 and grade >= 80):\n",
        "  print(\"B\")\n",
        "elif(grade <= 79 and grade >= 70):\n",
        "  print(\"C\")\n",
        "elif(grade <= 69 and grade >= 60):\n",
        "  print(\"D\")\n",
        "else:\n",
        "  print(\"E\")"
      ],
      "metadata": {
        "colab": {
          "base_uri": "https://localhost:8080/"
        },
        "id": "nnpNgNrt7N8Z",
        "outputId": "bf968c28-124e-4068-8fb5-11fdc3ca88ba"
      },
      "execution_count": 6,
      "outputs": [
        {
          "output_type": "stream",
          "name": "stdout",
          "text": [
            "請輸入成績82\n",
            "B\n"
          ]
        }
      ]
    },
    {
      "cell_type": "code",
      "source": [
        "grade = int(input(\"請輸入成績\"))\n",
        "if(grade >= 90):\n",
        "  print(\"A\")\n",
        "elif(grade <= 89 and grade >= 80):\n",
        "  print(\"B\")\n",
        "elif(grade <= 79 and grade >= 70):\n",
        "  print(\"C\")\n",
        "elif(grade <= 69 and grade >= 60):\n",
        "  print(\"D\")\n",
        "else:\n",
        "  print(\"E\")"
      ],
      "metadata": {
        "colab": {
          "base_uri": "https://localhost:8080/"
        },
        "id": "qDXDRhts7N_k",
        "outputId": "401ffff9-668e-4742-f2f7-d55712dcaeaa"
      },
      "execution_count": 7,
      "outputs": [
        {
          "output_type": "stream",
          "name": "stdout",
          "text": [
            "請輸入成績77\n",
            "C\n"
          ]
        }
      ]
    },
    {
      "cell_type": "code",
      "source": [
        "grade = int(input(\"請輸入成績\"))\n",
        "if(grade >= 90):\n",
        "  print(\"A\")\n",
        "elif(grade <= 89 and grade >= 80):\n",
        "  print(\"B\")\n",
        "elif(grade <= 79 and grade >= 70):\n",
        "  print(\"C\")\n",
        "elif(grade <= 69 and grade >= 60):\n",
        "  print(\"D\")\n",
        "else:\n",
        "  print(\"E\")"
      ],
      "metadata": {
        "colab": {
          "base_uri": "https://localhost:8080/"
        },
        "id": "V7KycPLC7lZT",
        "outputId": "78d780df-cc25-48f7-fb70-05ca8157511c"
      },
      "execution_count": 8,
      "outputs": [
        {
          "output_type": "stream",
          "name": "stdout",
          "text": [
            "請輸入成績65\n",
            "D\n"
          ]
        }
      ]
    },
    {
      "cell_type": "code",
      "source": [
        "grade = int(input(\"請輸入成績\"))\n",
        "if(grade >= 90):\n",
        "  print(\"A\")\n",
        "elif(grade <= 89 and grade >= 80):\n",
        "  print(\"B\")\n",
        "elif(grade <= 79 and grade >= 70):\n",
        "  print(\"C\")\n",
        "elif(grade <= 69 and grade >= 60):\n",
        "  print(\"D\")\n",
        "else:\n",
        "  print(\"E\")"
      ],
      "metadata": {
        "colab": {
          "base_uri": "https://localhost:8080/"
        },
        "id": "UjE8N5SR7ldF",
        "outputId": "24becd74-53c8-4d14-b81a-3fac3321a0f5"
      },
      "execution_count": 9,
      "outputs": [
        {
          "output_type": "stream",
          "name": "stdout",
          "text": [
            "請輸入成績50\n",
            "E\n"
          ]
        }
      ]
    },
    {
      "cell_type": "code",
      "source": [
        "season = int(input(\"請輸入月份\"))\n",
        "if(season == 3 or season == 4 or season == 5):\n",
        "  print(\"春天!\")\n",
        "elif season == 6 or season == 7 or season == 8:\n",
        "  print(\"夏天!\")\n",
        "elif season == 9 or season == 10 or season == 11:\n",
        "  print(\"秋天!\")\n",
        "elif season == 12 or season == 1 or season == 2:\n",
        "  print(\"冬天!\")\n",
        "else:\n",
        "  print(\"月份不在範圍內!\")"
      ],
      "metadata": {
        "colab": {
          "base_uri": "https://localhost:8080/"
        },
        "id": "kO5KgYR97r43",
        "outputId": "95c56401-fe5e-4089-ed79-f092e3f6773e"
      },
      "execution_count": 10,
      "outputs": [
        {
          "output_type": "stream",
          "name": "stdout",
          "text": [
            "請輸入月份1\n",
            "冬天!\n"
          ]
        }
      ]
    },
    {
      "cell_type": "code",
      "source": [
        "season = int(input(\"請輸入月份\"))\n",
        "if(season == 3 or season == 4 or season == 5):\n",
        "  print(\"春天!\")\n",
        "elif season == 6 or season == 7 or season == 8:\n",
        "  print(\"夏天!\")\n",
        "elif season == 9 or season == 10 or season == 11:\n",
        "  print(\"秋天!\")\n",
        "elif season == 12 or season == 1 or season == 2:\n",
        "  print(\"冬天!\")\n",
        "else:\n",
        "  print(\"月份不在範圍內!\")"
      ],
      "metadata": {
        "colab": {
          "base_uri": "https://localhost:8080/"
        },
        "id": "cCGKtaoA7r7u",
        "outputId": "d2a1c7a6-6f0b-4388-bce6-2ad63347c63c"
      },
      "execution_count": 11,
      "outputs": [
        {
          "output_type": "stream",
          "name": "stdout",
          "text": [
            "請輸入月份3\n",
            "春天!\n"
          ]
        }
      ]
    },
    {
      "cell_type": "code",
      "source": [
        "season = int(input(\"請輸入月份\"))\n",
        "if(season == 3 or season == 4 or season == 5):\n",
        "  print(\"春天!\")\n",
        "elif season == 6 or season == 7 or season == 8:\n",
        "  print(\"夏天!\")\n",
        "elif season == 9 or season == 10 or season == 11:\n",
        "  print(\"秋天!\")\n",
        "elif season == 12 or season == 1 or season == 2:\n",
        "  print(\"冬天!\")\n",
        "else:\n",
        "  print(\"月份不在範圍內!\")"
      ],
      "metadata": {
        "colab": {
          "base_uri": "https://localhost:8080/"
        },
        "id": "Dg2X1FA17r_z",
        "outputId": "ff40eb65-eba2-43ca-ae4d-1789243a35e5"
      },
      "execution_count": 13,
      "outputs": [
        {
          "output_type": "stream",
          "name": "stdout",
          "text": [
            "請輸入月份7\n",
            "夏天!\n"
          ]
        }
      ]
    },
    {
      "cell_type": "code",
      "source": [
        "season = int(input(\"請輸入月份\"))\n",
        "if(season == 3 or season == 4 or season == 5):\n",
        "  print(\"春天!\")\n",
        "elif season == 6 or season == 7 or season == 8:\n",
        "  print(\"夏天!\")\n",
        "elif season == 9 or season == 10 or season == 11:\n",
        "  print(\"秋天!\")\n",
        "elif season == 12 or season == 1 or season == 2:\n",
        "  print(\"冬天!\")\n",
        "else:\n",
        "  print(\"月份不在範圍內!\")"
      ],
      "metadata": {
        "colab": {
          "base_uri": "https://localhost:8080/"
        },
        "id": "zgFkbVdt7sED",
        "outputId": "23cbd33f-3acc-4166-ab44-350c0db81830"
      },
      "execution_count": 14,
      "outputs": [
        {
          "output_type": "stream",
          "name": "stdout",
          "text": [
            "請輸入月份9\n",
            "秋天!\n"
          ]
        }
      ]
    },
    {
      "cell_type": "code",
      "source": [
        "season = int(input(\"請輸入月份\"))\n",
        "if(season == 3 or season == 4 or season == 5):\n",
        "  print(\"春天!\")\n",
        "elif season == 6 or season == 7 or season == 8:\n",
        "  print(\"夏天!\")\n",
        "elif season == 9 or season == 10 or season == 11:\n",
        "  print(\"秋天!\")\n",
        "elif season == 12 or season == 1 or season == 2:\n",
        "  print(\"冬天!\")\n",
        "else:\n",
        "  print(\"月份不在範圍內!\")"
      ],
      "metadata": {
        "colab": {
          "base_uri": "https://localhost:8080/"
        },
        "id": "O1BvHnS77sI0",
        "outputId": "188a4876-05c8-49ed-ebad-6ef103184772"
      },
      "execution_count": 15,
      "outputs": [
        {
          "output_type": "stream",
          "name": "stdout",
          "text": [
            "請輸入月份33\n",
            "月份不在範圍內!\n"
          ]
        }
      ]
    }
  ]
}